{
 "cells": [
  {
   "cell_type": "markdown",
   "metadata": {},
   "source": [
    "# This example shows how to perform a selfconsistent calculation with local interactions for a honeycomb lattice\n",
    "### Import the necessary libraries"
   ]
  },
  {
   "cell_type": "code",
   "execution_count": 1,
   "metadata": {},
   "outputs": [],
   "source": [
    "# Add the root path of the pyqula library\n",
    "import os ; import sys\n",
    "sys.path.append(os.getcwd()+\"/../../src\")\n",
    "\n",
    "\n",
    "# import numpy and pyqula\n",
    "import numpy as np\n",
    "import matplotlib.pyplot as plt\n",
    "from pyqula import geometry"
   ]
  },
  {
   "cell_type": "markdown",
   "metadata": {},
   "source": [
    "### Create the geometry of the honeycomb lattice model, and its first neighbor Hamiltonian\n",
    "$$ H = \\sum_{\\langle ij \\rangle} c^\\dagger_i c_j $$\n",
    "where $\\langle ij \\rangle $ denotes first neighbors in the honeycomb lattice"
   ]
  },
  {
   "cell_type": "code",
   "execution_count": 2,
   "metadata": {},
   "outputs": [],
   "source": [
    "g = geometry.honeycomb_lattice() # create the geometry\n",
    "h = g.get_hamiltonian() # create hamiltonian of the system"
   ]
  },
  {
   "cell_type": "markdown",
   "metadata": {},
   "source": [
    "### Perform a selfconsistent calculation including repulsive local Hubbard interactions\n",
    "$$ H_U = U\\sum_i c^\\dagger_{i,\\uparrow} c_{i,\\uparrow} c^\\dagger_{i,\\downarrow} c_{i,\\downarrow} \\approx \n",
    "U\\sum_i \\langle c^\\dagger_{i,\\uparrow} c_{i,\\uparrow} \\rangle c^\\dagger_{i,\\downarrow} c_{i,\\downarrow} +\n",
    "U\\sum_i c^\\dagger_{i,\\uparrow} c_{i,\\uparrow} \\langle c^\\dagger_{i,\\downarrow} c_{i,\\downarrow} \\rangle $$"
   ]
  },
  {
   "cell_type": "code",
   "execution_count": 3,
   "metadata": {},
   "outputs": [],
   "source": [
    "Us = np.linspace(0.,4.0,20) # different values of U\n",
    "Ms = [] # empty list for the AF order\n",
    "for U in Us:\n",
    "    hscf = h.get_mean_field_hamiltonian(U=U,mf=\"antiferro\",mix=0.9,nk=20) # perform SCF calculation\n",
    "    mz = hscf.extract(\"mz\") # extract the magnetization\n",
    "    Ms.append(mz[0]-mz[1]) # store the stagger magnetization"
   ]
  },
  {
   "cell_type": "markdown",
   "metadata": {},
   "source": [
    "### Plot the magnetization VS Hubbard interaction"
   ]
  },
  {
   "cell_type": "code",
   "execution_count": 4,
   "metadata": {},
   "outputs": [
    {
     "data": {
      "text/plain": [
       "Text(0.5, 0, 'U/t')"
      ]
     },
     "execution_count": 4,
     "metadata": {},
     "output_type": "execute_result"
    },
    {
     "data": {
      "image/png": "[encoded data removed]",
      "text/plain": [
       "<Figure size 432x288 with 1 Axes>"
      ]
     },
     "metadata": {
      "needs_background": "light"
     },
     "output_type": "display_data"
    }
   ],
   "source": [
    "plt.plot(Us,Ms,marker=\"o\") # do a scatter plot\n",
    "plt.ylabel(\"AF magnetization\") # set the y label \n",
    "plt.xlabel(\"U/t\") # set the y label \n"
   ]
  },
  {
   "cell_type": "markdown",
   "metadata": {},
   "source": [
    "### Diagonalize the non-interacting and interacting Bloch Hamiltonian\n",
    "The following function will obtain the Bloch eigenvalues $\\epsilon_k$ defined as\n",
    "$$ H \\left | \\Psi_k \\right \\rangle = \\epsilon_k \\left | \\Psi_k \\right \\rangle $$"
   ]
  },
  {
   "cell_type": "code",
   "execution_count": 5,
   "metadata": {},
   "outputs": [],
   "source": [
    "(k,e) = h.get_bands() # get the bandstructure\n",
    "hscf = h.get_mean_field_hamiltonian(U=3.0,mf=\"antiferro\",mix=0.9,nk=20) # perform SCF calculation with U=3t\n",
    "(kscf,escf) = hscf.get_bands() # get the bandstructure"
   ]
  },
  {
   "cell_type": "markdown",
   "metadata": {},
   "source": [
    "### Plot the Bloch band structure in the path"
   ]
  },
  {
   "cell_type": "code",
   "execution_count": 6,
   "metadata": {},
   "outputs": [
    {
     "data": {
      "image/png": "[encoded data removed]",
      "text/plain": [
       "<Figure size 864x216 with 2 Axes>"
      ]
     },
     "metadata": {
      "needs_background": "light"
     },
     "output_type": "display_data"
    }
   ],
   "source": [
    "fig = plt.figure(figsize=(12, 3)) # set the right ratio\n",
    "plt.subplot(121)\n",
    "plt.title(\"Non-interacting\")\n",
    "plt.scatter(k/max(k),e,c=\"red\") # do a scatter plot\n",
    "plt.ylabel(\"Energy\") # set the y label \n",
    "plt.xticks([0.,1./3.,0.5,2./3.,1.],[\"$\\Gamma$\",'K',\"$M$\",'K',\"$\\Gamma$\"])\n",
    "\n",
    "\n",
    "plt.subplot(122)\n",
    "plt.title(\"Interacting\")\n",
    "plt.scatter(kscf/max(kscf),escf,c=\"blue\") # do a scatter plot\n",
    "plt.ylabel(\"Energy\") # set the y label \n",
    "plt.xticks([0.,1./3.,0.5,2./3.,1.],[\"$\\Gamma$\",'K',\"$M$\",'K',\"$\\Gamma$\"])\n",
    "\n",
    "\n",
    "plt.tight_layout()\n",
    "plt.show()\n",
    "\n"
   ]
  },
  {
   "cell_type": "code",
   "execution_count": null,
   "metadata": {},
   "outputs": [],
   "source": []
  }
 ],
 "metadata": {
  "kernelspec": {
   "display_name": "Python 3",
   "language": "python",
   "name": "python3"
  },
  "language_info": {
   "codemirror_mode": {
    "name": "ipython",
    "version": 3
   },
   "file_extension": ".py",
   "mimetype": "text/x-python",
   "name": "python",
   "nbconvert_exporter": "python",
   "pygments_lexer": "ipython3",
   "version": "3.8.3"
  }
 },
 "nbformat": 4,
 "nbformat_minor": 4
}
