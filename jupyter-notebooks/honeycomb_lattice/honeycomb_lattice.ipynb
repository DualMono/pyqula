{
 "cells": [
  {
   "cell_type": "markdown",
   "metadata": {},
   "source": [
    "# This example shows how to compute the band structure of a honeycomb lattice\n",
    "### Import the necessary libraries"
   ]
  },
  {
   "cell_type": "code",
   "execution_count": 1,
   "metadata": {},
   "outputs": [],
   "source": [
    "# Add the root path of the pyqula library\n",
    "import os ; import sys\n",
    "sys.path.append(os.getcwd()+\"/../../src\")\n",
    "\n",
    "\n",
    "# import numpy and pyqula\n",
    "import numpy as np\n",
    "from pyqula import geometry\n"
   ]
  },
  {
   "cell_type": "markdown",
   "metadata": {},
   "source": [
    "### Create the geometry of the honeycomb lattice model, and its first neighbor Hamiltonian\n",
    "$$ H = \\sum_{\\langle ij \\rangle} c^\\dagger_i c_j $$\n",
    "where $\\langle ij \\rangle $ denotes first neighbors in the honeycomb lattice"
   ]
  },
  {
   "cell_type": "code",
   "execution_count": 2,
   "metadata": {},
   "outputs": [],
   "source": [
    "g = geometry.honeycomb_lattice() # create the geometry\n",
    "h = g.get_hamiltonian() # create hamiltonian of the system"
   ]
  },
  {
   "cell_type": "markdown",
   "metadata": {},
   "source": [
    "### Diagonalize the Bloch Hamiltonian\n",
    "The following function will obtain the Bloch eigenvalues $\\epsilon_k$ defined as\n",
    "$$ H |\\Psi_k \\rangle = \\epsilon_k |\\Psi_k\\rangle $$"
   ]
  },
  {
   "cell_type": "code",
   "execution_count": 3,
   "metadata": {},
   "outputs": [],
   "source": [
    "(k,e) = h.get_bands() # get the bandstructure"
   ]
  },
  {
   "cell_type": "markdown",
   "metadata": {},
   "source": [
    "### Plot the Bloch band structure in the path"
   ]
  },
  {
   "cell_type": "code",
   "execution_count": 4,
   "metadata": {},
   "outputs": [
    {
     "data": {
      "image/png": "[encoded data removed]",
      "text/plain": [
       "<Figure size 432x288 with 1 Axes>"
      ]
     },
     "metadata": {
      "needs_background": "light"
     },
     "output_type": "display_data"
    }
   ],
   "source": [
    "import matplotlib.pyplot as plt\n",
    "plt.scatter(k/max(k),e,c=\"red\") # do a scatter plot\n",
    "plt.ylabel(\"Energy\") # set the y label \n",
    "plt.xticks([0.,1/3.,0.5,2./3.,1.],[\"$\\Gamma$\",\"$K$\",\"$M$\",\"$K'$\",\"$\\Gamma$\"])\n",
    "plt.show() # show the plot"
   ]
  },
  {
   "cell_type": "code",
   "execution_count": null,
   "metadata": {},
   "outputs": [],
   "source": []
  }
 ],
 "metadata": {
  "kernelspec": {
   "display_name": "Python 3",
   "language": "python",
   "name": "python3"
  },
  "language_info": {
   "codemirror_mode": {
    "name": "ipython",
    "version": 3
   },
   "file_extension": ".py",
   "mimetype": "text/x-python",
   "name": "python",
   "nbconvert_exporter": "python",
   "pygments_lexer": "ipython3",
   "version": "3.8.3"
  }
 },
 "nbformat": 4,
 "nbformat_minor": 4
}
